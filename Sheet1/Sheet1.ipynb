{
 "cells": [
  {
   "cell_type": "markdown",
   "id": "c76134b9",
   "metadata": {},
   "source": [
    "# Computational Mathematics\n",
    "## Problem sheet 1\n",
    "## 2025-10-27\n",
    "## Thomas Preston (thomas.preston@wadham.ox.ac.uk)\n",
    "## Wadham College"
   ]
  },
  {
   "cell_type": "markdown",
   "id": "55d9d301",
   "metadata": {},
   "source": [
    "\n",
    "***\n",
    "### Question 1.\n"
   ]
  },
  {
   "cell_type": "code",
   "execution_count": null,
   "id": "c8c9184c",
   "metadata": {},
   "outputs": [],
   "source": [
    "def getCubes(maxSize, numberToGenerate):\n",
    "    cubes = [] # store seen ones to avoid cubes that can be written in multiple ways\n",
    "    for d in range(1,maxSize):\n",
    "        cubeD=d**3\n",
    "        for c in range(1,d): # c<d as b,a≠0\n",
    "            cubeC=c**3\n",
    "            for b in range(1,c): # b<c to avoid duplicate solutions\n",
    "                cubeB=b**3\n",
    "                for a in range(1,b):\n",
    "                    cubeA=a**3\n",
    "                    if (cubeD==cubeA+cubeB+cubeC) and not(d in cubes):\n",
    "                        print(f\"{a}³\\t+{b}³\\t+{c}³\\t={d}³\")\n",
    "                        cubes.append(d)\n",
    "                        if len(cubes)==numberToGenerate:\n",
    "                            return\n",
    "maxSize = 50\n",
    "cubesToGenerate=5\n",
    "getCubes(maxSize, cubesToGenerate)"
   ]
  },
  {
   "cell_type": "markdown",
   "id": "5373408b",
   "metadata": {},
   "source": [
    "\n",
    "***\n",
    "### Question 2.\n"
   ]
  },
  {
   "cell_type": "code",
   "execution_count": null,
   "id": "58e9a993",
   "metadata": {},
   "outputs": [],
   "source": [
    "import fractions\n",
    "root2 = fractions.Fraction(2**(0.5))\n",
    "approximations = set()\n",
    "n=1\n",
    "while len(approximations)<10:\n",
    "    x=root2.limit_denominator(n)\n",
    "    if not(x in approximations): \n",
    "        approximations.add(x)\n",
    "        print(f\"{x}\\t={float(x)}\")\n",
    "    n+=1"
   ]
  },
  {
   "cell_type": "markdown",
   "id": "6f701fe0",
   "metadata": {},
   "source": [
    "\n",
    "***\n",
    "### Question 3.\n"
   ]
  },
  {
   "cell_type": "code",
   "execution_count": null,
   "id": "d738ddc4",
   "metadata": {},
   "outputs": [],
   "source": [
    "import mpmath\n",
    "mpmath.mp.dps = 100\n",
    "def newGuess(x, s):\n",
    "    return (x + (s/x))/2\n",
    "s=mpmath.mpf(\"2\")\n",
    "x =mpmath.mpf('0') # inital value just to start the while loop\n",
    "next_x=mpmath.mpf(\"1.4\")\n",
    "while not(mpmath.almosteq(x-next_x,0,1e-50)):\n",
    "    x=next_x\n",
    "    next_x=newGuess(x,s)\n",
    "print(next_x)\n",
    "# requires 5 iterations for 50dp\n",
    "# requires 7 iterations for 100dp\n",
    "# requires 8 iterations for 200dp\n",
    "# obtained by changing line 3 to = number greater than required dps and line 12 to 1e-(dps required)"
   ]
  }
 ],
 "metadata": {
  "jupytext": {
   "cell_metadata_filter": "-all",
   "main_language": "python",
   "notebook_metadata_filter": "-all"
  }
 },
 "nbformat": 4,
 "nbformat_minor": 5
}
